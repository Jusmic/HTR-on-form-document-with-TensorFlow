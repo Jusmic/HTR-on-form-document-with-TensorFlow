{
  "nbformat": 4,
  "nbformat_minor": 0,
  "metadata": {
    "colab": {
      "name": "TensorFlow model.ipynb",
      "provenance": [],
      "collapsed_sections": []
    },
    "kernelspec": {
      "name": "python3",
      "display_name": "Python 3"
    },
    "accelerator": "GPU"
  },
  "cells": [
    {
      "cell_type": "code",
      "metadata": {
        "id": "Ck8V_A3lJVyv",
        "colab_type": "code",
        "colab": {
          "base_uri": "https://localhost:8080/",
          "height": 377
        },
        "outputId": "7098207a-240d-4f38-bce9-ded78939809c"
      },
      "source": [
        "!nvidia-smi"
      ],
      "execution_count": null,
      "outputs": [
        {
          "output_type": "stream",
          "text": [
            "Wed Aug 19 11:07:16 2020       \n",
            "+-----------------------------------------------------------------------------+\n",
            "| NVIDIA-SMI 450.57       Driver Version: 418.67       CUDA Version: 10.1     |\n",
            "|-------------------------------+----------------------+----------------------+\n",
            "| GPU  Name        Persistence-M| Bus-Id        Disp.A | Volatile Uncorr. ECC |\n",
            "| Fan  Temp  Perf  Pwr:Usage/Cap|         Memory-Usage | GPU-Util  Compute M. |\n",
            "|                               |                      |               MIG M. |\n",
            "|===============================+======================+======================|\n",
            "|   0  Tesla T4            Off  | 00000000:00:04.0 Off |                    0 |\n",
            "| N/A   55C    P8    10W /  70W |      0MiB / 15079MiB |      0%      Default |\n",
            "|                               |                      |                 ERR! |\n",
            "+-------------------------------+----------------------+----------------------+\n",
            "                                                                               \n",
            "+-----------------------------------------------------------------------------+\n",
            "| Processes:                                                                  |\n",
            "|  GPU   GI   CI        PID   Type   Process name                  GPU Memory |\n",
            "|        ID   ID                                                   Usage      |\n",
            "|=============================================================================|\n",
            "|  No running processes found                                                 |\n",
            "+-----------------------------------------------------------------------------+\n"
          ],
          "name": "stdout"
        }
      ]
    },
    {
      "cell_type": "code",
      "metadata": {
        "id": "ScPhqrsGsT9e",
        "colab_type": "code",
        "colab": {
          "base_uri": "https://localhost:8080/",
          "height": 35
        },
        "outputId": "1d251a7c-0dcb-4e59-a3ac-25a7eb5bacba"
      },
      "source": [
        "!pip install -q tensorflow-gpu\n",
        "\n",
        "%tensorflow_version 2.x"
      ],
      "execution_count": null,
      "outputs": [
        {
          "output_type": "stream",
          "text": [
            "\u001b[K     |████████████████████████████████| 320.4MB 54kB/s \n",
            "\u001b[?25h"
          ],
          "name": "stdout"
        }
      ]
    },
    {
      "cell_type": "code",
      "metadata": {
        "id": "OP3u5R0fKgZO",
        "colab_type": "code",
        "colab": {
          "base_uri": "https://localhost:8080/",
          "height": 35
        },
        "outputId": "b202f88c-1a39-415c-9ef9-8360624eb71b"
      },
      "source": [
        "import tensorflow as tf\n",
        "\n",
        "device_name = tf.test.gpu_device_name()\n",
        "\n",
        "if device_name != \"/device:GPU:0\":\n",
        "    raise SystemError(\"GPU device not found\")\n",
        "\n",
        "print(f\"Found GPU at: {device_name}\")"
      ],
      "execution_count": null,
      "outputs": [
        {
          "output_type": "stream",
          "text": [
            "Found GPU at: /device:GPU:0\n"
          ],
          "name": "stdout"
        }
      ]
    },
    {
      "cell_type": "code",
      "metadata": {
        "id": "e2upZ8lTKwJG",
        "colab_type": "code",
        "colab": {
          "base_uri": "https://localhost:8080/",
          "height": 235
        },
        "outputId": "cc62bf52-228b-4dc5-b2de-6ee58f31e561"
      },
      "source": [
        "from google.colab import drive\n",
        "\n",
        "drive.mount(\"./gdrive\", force_remount=True)\n",
        "\n",
        "%cd \"./gdrive/My Drive/Colab Notebooks/handwritten-text-recognition/src/\"\n",
        "!ls -l"
      ],
      "execution_count": null,
      "outputs": [
        {
          "output_type": "stream",
          "text": [
            "Go to this URL in a browser: https://accounts.google.com/o/oauth2/auth?client_id=947318989803-6bn6qk8qdgf4n4g3pfee6491hc0brc4i.apps.googleusercontent.com&redirect_uri=urn%3aietf%3awg%3aoauth%3a2.0%3aoob&scope=email%20https%3a%2f%2fwww.googleapis.com%2fauth%2fdocs.test%20https%3a%2f%2fwww.googleapis.com%2fauth%2fdrive%20https%3a%2f%2fwww.googleapis.com%2fauth%2fdrive.photos.readonly%20https%3a%2f%2fwww.googleapis.com%2fauth%2fpeopleapi.readonly&response_type=code\n",
            "\n",
            "Enter your authorization code:\n",
            "··········\n",
            "Mounted at ./gdrive\n",
            "/content/gdrive/My Drive/Colab Notebooks/handwritten-text-recognition/src\n",
            "total 35\n",
            "drwx------ 2 root root  4096 Jun  8 16:35 data\n",
            "-rw------- 1 root root  9387 Jun  2 10:58 main.py\n",
            "drwx------ 2 root root  4096 Jun  8 16:35 network\n",
            "-rw------- 1 root root 17716 Jun  2 10:58 tutorial.ipynb\n"
          ],
          "name": "stdout"
        }
      ]
    },
    {
      "cell_type": "code",
      "metadata": {
        "id": "RrfzbkWpLM_V",
        "colab_type": "code",
        "colab": {
          "base_uri": "https://localhost:8080/",
          "height": 89
        },
        "outputId": "de5aa06c-6f14-4d32-ecb4-4bf9844060e2"
      },
      "source": [
        "import os\n",
        "import datetime\n",
        "import string\n",
        "\n",
        "# define parameters\n",
        "source = \"iam\"\n",
        "arch = \"flor\"\n",
        "epochs = 200\n",
        "batch_size = 16\n",
        "\n",
        "# define paths\n",
        "source_path = os.path.join(\"..\", \"data\", f\"{source}.hdf5\")\n",
        "output_path = os.path.join(\"..\", \"output\", source, arch)\n",
        "target_path = os.path.join(output_path, \"checkpoint_weights.hdf5\")\n",
        "os.makedirs(output_path, exist_ok=True)\n",
        "\n",
        "# define input size, number max of chars per line and list of valid chars\n",
        "input_size = (1024, 128, 1)\n",
        "max_text_length = 128\n",
        "charset_base = string.printable[:95]\n",
        "\n",
        "print(\"source:\", source_path)\n",
        "print(\"output\", output_path)\n",
        "print(\"target\", target_path)\n",
        "print(\"charset:\", charset_base)"
      ],
      "execution_count": null,
      "outputs": [
        {
          "output_type": "stream",
          "text": [
            "source: ../data/iam.hdf5\n",
            "output ../output/iam/flor\n",
            "target ../output/iam/flor/checkpoint_weights.hdf5\n",
            "charset: 0123456789abcdefghijklmnopqrstuvwxyzABCDEFGHIJKLMNOPQRSTUVWXYZ!\"#$%&'()*+,-./:;<=>?@[\\]^_`{|}~ \n"
          ],
          "name": "stdout"
        }
      ]
    },
    {
      "cell_type": "code",
      "metadata": {
        "id": "D0GWCfrYL4Ic",
        "colab_type": "code",
        "colab": {
          "base_uri": "https://localhost:8080/",
          "height": 71
        },
        "outputId": "6b31f7d9-2379-4649-c340-7609354ab26a"
      },
      "source": [
        "from data.generator import DataGenerator\n",
        "\n",
        "dtgen = DataGenerator(source=source_path,\n",
        "                      batch_size=batch_size,\n",
        "                      charset=charset_base,\n",
        "                      max_text_length=max_text_length)\n",
        "\n",
        "print(f\"Train images: {dtgen.size['train']}\")\n",
        "print(f\"Validation images: {dtgen.size['valid']}\")\n",
        "print(f\"Test images: {dtgen.size['test']}\")"
      ],
      "execution_count": null,
      "outputs": [
        {
          "output_type": "stream",
          "text": [
            "Train images: 5369\n",
            "Validation images: 744\n",
            "Test images: 1425\n"
          ],
          "name": "stdout"
        }
      ]
    },
    {
      "cell_type": "code",
      "metadata": {
        "id": "tNcdf7qVMLTL",
        "colab_type": "code",
        "colab": {
          "base_uri": "https://localhost:8080/",
          "height": 1000
        },
        "outputId": "78c0ae51-a8e1-4216-bd26-ab64aff539e7"
      },
      "source": [
        "from network.model import HTRModel\n",
        "\n",
        "# create and compile HTRModel\n",
        "model = HTRModel(architecture=arch, input_size=input_size, vocab_size=dtgen.tokenizer.vocab_size)\n",
        "\n",
        "model.compile(learning_rate=0.001)\n",
        "model.summary(output_path, \"summary.txt\")\n",
        "\n",
        "# get default callbacks and load checkpoint weights file (HDF5) if exists\n",
        "model.load_checkpoint(target=target_path)\n",
        "\n",
        "callbacks = model.get_callbacks(logdir=output_path, checkpoint=target_path, verbose=1)"
      ],
      "execution_count": null,
      "outputs": [
        {
          "output_type": "stream",
          "text": [
            "Model: \"functional_1\"\n",
            "_________________________________________________________________\n",
            "Layer (type)                 Output Shape              Param #   \n",
            "=================================================================\n",
            "input (InputLayer)           [(None, 1024, 128, 1)]    0         \n",
            "_________________________________________________________________\n",
            "conv2d (Conv2D)              (None, 512, 64, 16)       160       \n",
            "_________________________________________________________________\n",
            "p_re_lu (PReLU)              (None, 512, 64, 16)       16        \n",
            "_________________________________________________________________\n",
            "batch_normalization (BatchNo (None, 512, 64, 16)       112       \n",
            "_________________________________________________________________\n",
            "full_gated_conv2d (FullGated (None, 512, 64, 16)       4640      \n",
            "_________________________________________________________________\n",
            "conv2d_1 (Conv2D)            (None, 512, 64, 32)       4640      \n",
            "_________________________________________________________________\n",
            "p_re_lu_1 (PReLU)            (None, 512, 64, 32)       32        \n",
            "_________________________________________________________________\n",
            "batch_normalization_1 (Batch (None, 512, 64, 32)       224       \n",
            "_________________________________________________________________\n",
            "full_gated_conv2d_1 (FullGat (None, 512, 64, 32)       18496     \n",
            "_________________________________________________________________\n",
            "conv2d_2 (Conv2D)            (None, 256, 16, 40)       10280     \n",
            "_________________________________________________________________\n",
            "p_re_lu_2 (PReLU)            (None, 256, 16, 40)       40        \n",
            "_________________________________________________________________\n",
            "batch_normalization_2 (Batch (None, 256, 16, 40)       280       \n",
            "_________________________________________________________________\n",
            "full_gated_conv2d_2 (FullGat (None, 256, 16, 40)       28880     \n",
            "_________________________________________________________________\n",
            "dropout (Dropout)            (None, 256, 16, 40)       0         \n",
            "_________________________________________________________________\n",
            "conv2d_3 (Conv2D)            (None, 256, 16, 48)       17328     \n",
            "_________________________________________________________________\n",
            "p_re_lu_3 (PReLU)            (None, 256, 16, 48)       48        \n",
            "_________________________________________________________________\n",
            "batch_normalization_3 (Batch (None, 256, 16, 48)       336       \n",
            "_________________________________________________________________\n",
            "full_gated_conv2d_3 (FullGat (None, 256, 16, 48)       41568     \n",
            "_________________________________________________________________\n",
            "dropout_1 (Dropout)          (None, 256, 16, 48)       0         \n",
            "_________________________________________________________________\n",
            "conv2d_4 (Conv2D)            (None, 128, 4, 56)        21560     \n",
            "_________________________________________________________________\n",
            "p_re_lu_4 (PReLU)            (None, 128, 4, 56)        56        \n",
            "_________________________________________________________________\n",
            "batch_normalization_4 (Batch (None, 128, 4, 56)        392       \n",
            "_________________________________________________________________\n",
            "full_gated_conv2d_4 (FullGat (None, 128, 4, 56)        56560     \n",
            "_________________________________________________________________\n",
            "dropout_2 (Dropout)          (None, 128, 4, 56)        0         \n",
            "_________________________________________________________________\n",
            "conv2d_5 (Conv2D)            (None, 128, 4, 64)        32320     \n",
            "_________________________________________________________________\n",
            "p_re_lu_5 (PReLU)            (None, 128, 4, 64)        64        \n",
            "_________________________________________________________________\n",
            "batch_normalization_5 (Batch (None, 128, 4, 64)        448       \n",
            "_________________________________________________________________\n",
            "max_pooling2d (MaxPooling2D) (None, 128, 2, 64)        0         \n",
            "_________________________________________________________________\n",
            "reshape (Reshape)            (None, 128, 128)          0         \n",
            "_________________________________________________________________\n",
            "bidirectional (Bidirectional (None, 128, 256)          198144    \n",
            "_________________________________________________________________\n",
            "dense (Dense)                (None, 128, 256)          65792     \n",
            "_________________________________________________________________\n",
            "bidirectional_1 (Bidirection (None, 128, 256)          296448    \n",
            "_________________________________________________________________\n",
            "dense_1 (Dense)              (None, 128, 98)           25186     \n",
            "=================================================================\n",
            "Total params: 824,050\n",
            "Trainable params: 822,770\n",
            "Non-trainable params: 1,280\n",
            "_________________________________________________________________\n"
          ],
          "name": "stdout"
        }
      ]
    },
    {
      "cell_type": "code",
      "metadata": {
        "id": "S8jK4h0mMr3E",
        "colab_type": "code",
        "colab": {}
      },
      "source": [
        "%load_ext tensorboard\n",
        "%tensorboard --reload_interval=300 --logdir={output_path}"
      ],
      "execution_count": null,
      "outputs": []
    },
    {
      "cell_type": "code",
      "metadata": {
        "id": "lbugE-sRN_m-",
        "colab_type": "code",
        "colab": {
          "base_uri": "https://localhost:8080/",
          "height": 1000
        },
        "outputId": "c36acbfe-01cb-4376-c423-1274812ca833"
      },
      "source": [
        "# to calculate total and average time per epoch\n",
        "start_time = datetime.datetime.now()\n",
        "\n",
        "h = model.fit(x=dtgen.next_train_batch(),\n",
        "              epochs=epochs,\n",
        "              steps_per_epoch=dtgen.steps['train'],\n",
        "              validation_data=dtgen.next_valid_batch(),\n",
        "              validation_steps=dtgen.steps['valid'],\n",
        "              callbacks=callbacks,\n",
        "              shuffle=True,\n",
        "              verbose=1)\n",
        "\n",
        "total_time = datetime.datetime.now() - start_time\n",
        "\n",
        "loss = h.history['loss']\n",
        "val_loss = h.history['val_loss']\n",
        "\n",
        "min_val_loss = min(val_loss)\n",
        "min_val_loss_i = val_loss.index(min_val_loss)\n",
        "\n",
        "time_epoch = (total_time / len(loss))\n",
        "total_item = (dtgen.size['train'] + dtgen.size['valid'])\n",
        "\n",
        "t_corpus = \"\\n\".join([\n",
        "    f\"Total train images:      {dtgen.size['train']}\",\n",
        "    f\"Total validation images: {dtgen.size['valid']}\",\n",
        "    f\"Batch:                   {dtgen.batch_size}\\n\",\n",
        "    f\"Total time:              {total_time}\",\n",
        "    f\"Time per epoch:          {time_epoch}\",\n",
        "    f\"Time per item:           {time_epoch / total_item}\\n\",\n",
        "    f\"Total epochs:            {len(loss)}\",\n",
        "    f\"Best epoch               {min_val_loss_i + 1}\\n\",\n",
        "    f\"Training loss:           {loss[min_val_loss_i]:.8f}\",\n",
        "    f\"Validation loss:         {min_val_loss:.8f}\"\n",
        "])\n",
        "with open(os.path.join(output_path, \"train.txt\"), \"w\") as lg:\n",
        "    lg.write(t_corpus)\n",
        "    print(t_corpus)"
      ],
      "execution_count": null,
      "outputs": [
        {
          "output_type": "stream",
          "text": [
            "Epoch 1/200\n",
            "336/336 [==============================] - ETA: 0s - loss: 127.7498\n",
            "Epoch 00001: val_loss improved from inf to 102.04208, saving model to ../output/iam/flor/checkpoint_weights.hdf5\n",
            "336/336 [==============================] - 66s 197ms/step - loss: 127.7498 - val_loss: 102.0421\n",
            "Epoch 2/200\n",
            "336/336 [==============================] - ETA: 0s - loss: 84.8943\n",
            "Epoch 00002: val_loss improved from 102.04208 to 62.67791, saving model to ../output/iam/flor/checkpoint_weights.hdf5\n",
            "336/336 [==============================] - 64s 192ms/step - loss: 84.8943 - val_loss: 62.6779\n",
            "Epoch 3/200\n",
            "336/336 [==============================] - ETA: 0s - loss: 57.9465\n",
            "Epoch 00003: val_loss improved from 62.67791 to 39.93803, saving model to ../output/iam/flor/checkpoint_weights.hdf5\n",
            "336/336 [==============================] - 64s 192ms/step - loss: 57.9465 - val_loss: 39.9380\n",
            "Epoch 4/200\n",
            "336/336 [==============================] - ETA: 0s - loss: 44.0677\n",
            "Epoch 00004: val_loss improved from 39.93803 to 30.41438, saving model to ../output/iam/flor/checkpoint_weights.hdf5\n",
            "336/336 [==============================] - 65s 192ms/step - loss: 44.0677 - val_loss: 30.4144\n",
            "Epoch 5/200\n",
            "336/336 [==============================] - ETA: 0s - loss: 36.9840\n",
            "Epoch 00005: val_loss improved from 30.41438 to 25.93171, saving model to ../output/iam/flor/checkpoint_weights.hdf5\n",
            "336/336 [==============================] - 64s 190ms/step - loss: 36.9840 - val_loss: 25.9317\n",
            "Epoch 6/200\n",
            "336/336 [==============================] - ETA: 0s - loss: 32.4011\n",
            "Epoch 00006: val_loss improved from 25.93171 to 23.07708, saving model to ../output/iam/flor/checkpoint_weights.hdf5\n",
            "336/336 [==============================] - 64s 191ms/step - loss: 32.4011 - val_loss: 23.0771\n",
            "Epoch 7/200\n",
            "336/336 [==============================] - ETA: 0s - loss: 29.2054\n",
            "Epoch 00007: val_loss improved from 23.07708 to 21.70796, saving model to ../output/iam/flor/checkpoint_weights.hdf5\n",
            "336/336 [==============================] - 64s 191ms/step - loss: 29.2054 - val_loss: 21.7080\n",
            "Epoch 8/200\n",
            "336/336 [==============================] - ETA: 0s - loss: 26.6578\n",
            "Epoch 00008: val_loss improved from 21.70796 to 20.07181, saving model to ../output/iam/flor/checkpoint_weights.hdf5\n",
            "336/336 [==============================] - 64s 191ms/step - loss: 26.6578 - val_loss: 20.0718\n",
            "Epoch 9/200\n",
            "336/336 [==============================] - ETA: 0s - loss: 24.8731\n",
            "Epoch 00009: val_loss improved from 20.07181 to 18.52394, saving model to ../output/iam/flor/checkpoint_weights.hdf5\n",
            "336/336 [==============================] - 64s 190ms/step - loss: 24.8731 - val_loss: 18.5239\n",
            "Epoch 10/200\n",
            "336/336 [==============================] - ETA: 0s - loss: 23.3616\n",
            "Epoch 00010: val_loss improved from 18.52394 to 17.54787, saving model to ../output/iam/flor/checkpoint_weights.hdf5\n",
            "336/336 [==============================] - 63s 189ms/step - loss: 23.3616 - val_loss: 17.5479\n",
            "Epoch 11/200\n",
            "336/336 [==============================] - ETA: 0s - loss: 22.5447\n",
            "Epoch 00011: val_loss did not improve from 17.54787\n",
            "336/336 [==============================] - 63s 188ms/step - loss: 22.5447 - val_loss: 17.5807\n",
            "Epoch 12/200\n",
            "336/336 [==============================] - ETA: 0s - loss: 21.3479\n",
            "Epoch 00012: val_loss improved from 17.54787 to 17.01302, saving model to ../output/iam/flor/checkpoint_weights.hdf5\n",
            "336/336 [==============================] - 63s 188ms/step - loss: 21.3479 - val_loss: 17.0130\n",
            "Epoch 13/200\n",
            "336/336 [==============================] - ETA: 0s - loss: 20.3875\n",
            "Epoch 00013: val_loss improved from 17.01302 to 16.25836, saving model to ../output/iam/flor/checkpoint_weights.hdf5\n",
            "336/336 [==============================] - 64s 190ms/step - loss: 20.3875 - val_loss: 16.2584\n",
            "Epoch 14/200\n",
            "336/336 [==============================] - ETA: 0s - loss: 19.4599\n",
            "Epoch 00014: val_loss improved from 16.25836 to 15.80146, saving model to ../output/iam/flor/checkpoint_weights.hdf5\n",
            "336/336 [==============================] - 63s 188ms/step - loss: 19.4599 - val_loss: 15.8015\n",
            "Epoch 15/200\n",
            "336/336 [==============================] - ETA: 0s - loss: 18.6869\n",
            "Epoch 00015: val_loss did not improve from 15.80146\n",
            "336/336 [==============================] - 63s 187ms/step - loss: 18.6869 - val_loss: 16.1543\n",
            "Epoch 16/200\n",
            "336/336 [==============================] - ETA: 0s - loss: 18.3699\n",
            "Epoch 00016: val_loss improved from 15.80146 to 14.88779, saving model to ../output/iam/flor/checkpoint_weights.hdf5\n",
            "336/336 [==============================] - 64s 189ms/step - loss: 18.3699 - val_loss: 14.8878\n",
            "Epoch 17/200\n",
            "336/336 [==============================] - ETA: 0s - loss: 17.7746\n",
            "Epoch 00017: val_loss did not improve from 14.88779\n",
            "336/336 [==============================] - 62s 186ms/step - loss: 17.7746 - val_loss: 15.0628\n",
            "Epoch 18/200\n",
            "336/336 [==============================] - ETA: 0s - loss: 17.1426\n",
            "Epoch 00018: val_loss did not improve from 14.88779\n",
            "336/336 [==============================] - 63s 187ms/step - loss: 17.1426 - val_loss: 15.3172\n",
            "Epoch 19/200\n",
            "336/336 [==============================] - ETA: 0s - loss: 16.6943\n",
            "Epoch 00019: val_loss improved from 14.88779 to 14.49449, saving model to ../output/iam/flor/checkpoint_weights.hdf5\n",
            "336/336 [==============================] - 63s 188ms/step - loss: 16.6943 - val_loss: 14.4945\n",
            "Epoch 20/200\n",
            "336/336 [==============================] - ETA: 0s - loss: 16.1521\n",
            "Epoch 00020: val_loss did not improve from 14.49449\n",
            "336/336 [==============================] - 63s 186ms/step - loss: 16.1521 - val_loss: 15.0234\n",
            "Epoch 21/200\n",
            "336/336 [==============================] - ETA: 0s - loss: 15.7842\n",
            "Epoch 00021: val_loss improved from 14.49449 to 14.02372, saving model to ../output/iam/flor/checkpoint_weights.hdf5\n",
            "336/336 [==============================] - 63s 189ms/step - loss: 15.7842 - val_loss: 14.0237\n",
            "Epoch 22/200\n",
            "336/336 [==============================] - ETA: 0s - loss: 15.3332\n",
            "Epoch 00022: val_loss improved from 14.02372 to 14.00220, saving model to ../output/iam/flor/checkpoint_weights.hdf5\n",
            "336/336 [==============================] - 63s 188ms/step - loss: 15.3332 - val_loss: 14.0022\n",
            "Epoch 23/200\n",
            "336/336 [==============================] - ETA: 0s - loss: 15.0996\n",
            "Epoch 00023: val_loss did not improve from 14.00220\n",
            "336/336 [==============================] - 63s 187ms/step - loss: 15.0996 - val_loss: 14.5087\n",
            "Epoch 24/200\n",
            "336/336 [==============================] - ETA: 0s - loss: 15.0455\n",
            "Epoch 00024: val_loss improved from 14.00220 to 13.75502, saving model to ../output/iam/flor/checkpoint_weights.hdf5\n",
            "336/336 [==============================] - 63s 188ms/step - loss: 15.0455 - val_loss: 13.7550\n",
            "Epoch 25/200\n",
            "336/336 [==============================] - ETA: 0s - loss: 14.2278\n",
            "Epoch 00025: val_loss improved from 13.75502 to 13.24941, saving model to ../output/iam/flor/checkpoint_weights.hdf5\n",
            "336/336 [==============================] - 63s 187ms/step - loss: 14.2278 - val_loss: 13.2494\n",
            "Epoch 26/200\n",
            "336/336 [==============================] - ETA: 0s - loss: 14.2066\n",
            "Epoch 00026: val_loss did not improve from 13.24941\n",
            "336/336 [==============================] - 62s 185ms/step - loss: 14.2066 - val_loss: 13.4932\n",
            "Epoch 27/200\n",
            "336/336 [==============================] - ETA: 0s - loss: 13.8795\n",
            "Epoch 00027: val_loss did not improve from 13.24941\n",
            "336/336 [==============================] - 62s 186ms/step - loss: 13.8795 - val_loss: 13.6908\n",
            "Epoch 28/200\n",
            "336/336 [==============================] - ETA: 0s - loss: 13.7066\n",
            "Epoch 00028: val_loss improved from 13.24941 to 12.93053, saving model to ../output/iam/flor/checkpoint_weights.hdf5\n",
            "336/336 [==============================] - 63s 188ms/step - loss: 13.7066 - val_loss: 12.9305\n",
            "Epoch 29/200\n",
            "336/336 [==============================] - ETA: 0s - loss: 13.4446\n",
            "Epoch 00029: val_loss did not improve from 12.93053\n",
            "336/336 [==============================] - 62s 186ms/step - loss: 13.4446 - val_loss: 13.2027\n",
            "Epoch 30/200\n",
            "336/336 [==============================] - ETA: 0s - loss: 13.2062\n",
            "Epoch 00030: val_loss did not improve from 12.93053\n",
            "336/336 [==============================] - 62s 185ms/step - loss: 13.2062 - val_loss: 13.1722\n",
            "Epoch 31/200\n",
            "336/336 [==============================] - ETA: 0s - loss: 13.0538\n",
            "Epoch 00031: val_loss did not improve from 12.93053\n",
            "336/336 [==============================] - 63s 187ms/step - loss: 13.0538 - val_loss: 13.4317\n",
            "Epoch 32/200\n",
            "336/336 [==============================] - ETA: 0s - loss: 12.8257\n",
            "Epoch 00032: val_loss improved from 12.93053 to 12.74989, saving model to ../output/iam/flor/checkpoint_weights.hdf5\n",
            "336/336 [==============================] - 63s 187ms/step - loss: 12.8257 - val_loss: 12.7499\n",
            "Epoch 33/200\n",
            "336/336 [==============================] - ETA: 0s - loss: 12.5658\n",
            "Epoch 00033: val_loss did not improve from 12.74989\n",
            "336/336 [==============================] - 62s 186ms/step - loss: 12.5658 - val_loss: 12.9026\n",
            "Epoch 34/200\n",
            "336/336 [==============================] - ETA: 0s - loss: 12.4635\n",
            "Epoch 00034: val_loss improved from 12.74989 to 12.58534, saving model to ../output/iam/flor/checkpoint_weights.hdf5\n",
            "336/336 [==============================] - 63s 187ms/step - loss: 12.4635 - val_loss: 12.5853\n",
            "Epoch 35/200\n",
            "336/336 [==============================] - ETA: 0s - loss: 12.4049\n",
            "Epoch 00035: val_loss did not improve from 12.58534\n",
            "336/336 [==============================] - 63s 186ms/step - loss: 12.4049 - val_loss: 12.6835\n",
            "Epoch 36/200\n",
            "336/336 [==============================] - ETA: 0s - loss: 12.0889\n",
            "Epoch 00036: val_loss improved from 12.58534 to 12.05714, saving model to ../output/iam/flor/checkpoint_weights.hdf5\n",
            "336/336 [==============================] - 63s 187ms/step - loss: 12.0889 - val_loss: 12.0571\n",
            "Epoch 37/200\n",
            "336/336 [==============================] - ETA: 0s - loss: 12.0065\n",
            "Epoch 00037: val_loss improved from 12.05714 to 11.95848, saving model to ../output/iam/flor/checkpoint_weights.hdf5\n",
            "336/336 [==============================] - 63s 187ms/step - loss: 12.0065 - val_loss: 11.9585\n",
            "Epoch 38/200\n",
            "336/336 [==============================] - ETA: 0s - loss: 11.6591\n",
            "Epoch 00038: val_loss did not improve from 11.95848\n",
            "336/336 [==============================] - 62s 186ms/step - loss: 11.6591 - val_loss: 11.9680\n",
            "Epoch 39/200\n",
            "336/336 [==============================] - ETA: 0s - loss: 11.5903\n",
            "Epoch 00039: val_loss did not improve from 11.95848\n",
            "336/336 [==============================] - 62s 186ms/step - loss: 11.5903 - val_loss: 12.1701\n",
            "Epoch 40/200\n",
            "336/336 [==============================] - ETA: 0s - loss: 11.3806\n",
            "Epoch 00040: val_loss did not improve from 11.95848\n",
            "336/336 [==============================] - 62s 186ms/step - loss: 11.3806 - val_loss: 12.0933\n",
            "Epoch 41/200\n",
            "336/336 [==============================] - ETA: 0s - loss: 11.2939\n",
            "Epoch 00041: val_loss improved from 11.95848 to 11.76918, saving model to ../output/iam/flor/checkpoint_weights.hdf5\n",
            "336/336 [==============================] - 63s 187ms/step - loss: 11.2939 - val_loss: 11.7692\n",
            "Epoch 42/200\n",
            "336/336 [==============================] - ETA: 0s - loss: 11.1727\n",
            "Epoch 00042: val_loss did not improve from 11.76918\n",
            "336/336 [==============================] - 62s 186ms/step - loss: 11.1727 - val_loss: 11.9571\n",
            "Epoch 43/200\n",
            "336/336 [==============================] - ETA: 0s - loss: 10.9018\n",
            "Epoch 00043: val_loss did not improve from 11.76918\n",
            "336/336 [==============================] - 62s 186ms/step - loss: 10.9018 - val_loss: 11.9641\n",
            "Epoch 44/200\n",
            "336/336 [==============================] - ETA: 0s - loss: 10.8258\n",
            "Epoch 00044: val_loss did not improve from 11.76918\n",
            "336/336 [==============================] - 62s 185ms/step - loss: 10.8258 - val_loss: 11.9465\n",
            "Epoch 45/200\n",
            "336/336 [==============================] - ETA: 0s - loss: 10.8247\n",
            "Epoch 00045: val_loss did not improve from 11.76918\n",
            "336/336 [==============================] - 62s 185ms/step - loss: 10.8247 - val_loss: 12.5840\n",
            "Epoch 46/200\n",
            "336/336 [==============================] - ETA: 0s - loss: 10.5382\n",
            "Epoch 00046: val_loss did not improve from 11.76918\n",
            "336/336 [==============================] - 62s 185ms/step - loss: 10.5382 - val_loss: 11.9354\n",
            "Epoch 47/200\n",
            "336/336 [==============================] - ETA: 0s - loss: 10.2910\n",
            "Epoch 00047: val_loss improved from 11.76918 to 11.67525, saving model to ../output/iam/flor/checkpoint_weights.hdf5\n",
            "336/336 [==============================] - 63s 187ms/step - loss: 10.2910 - val_loss: 11.6753\n",
            "Epoch 48/200\n",
            "336/336 [==============================] - ETA: 0s - loss: 10.4962\n",
            "Epoch 00048: val_loss did not improve from 11.67525\n",
            "336/336 [==============================] - 63s 186ms/step - loss: 10.4962 - val_loss: 11.6757\n",
            "Epoch 49/200\n",
            "336/336 [==============================] - ETA: 0s - loss: 10.1876\n",
            "Epoch 00049: val_loss did not improve from 11.67525\n",
            "336/336 [==============================] - 62s 185ms/step - loss: 10.1876 - val_loss: 11.7933\n",
            "Epoch 50/200\n",
            "336/336 [==============================] - ETA: 0s - loss: 10.1055\n",
            "Epoch 00050: val_loss did not improve from 11.67525\n",
            "336/336 [==============================] - 62s 186ms/step - loss: 10.1055 - val_loss: 12.1351\n",
            "Epoch 51/200\n",
            "336/336 [==============================] - ETA: 0s - loss: 10.1848\n",
            "Epoch 00051: val_loss improved from 11.67525 to 11.52878, saving model to ../output/iam/flor/checkpoint_weights.hdf5\n",
            "336/336 [==============================] - 63s 188ms/step - loss: 10.1848 - val_loss: 11.5288\n",
            "Epoch 52/200\n",
            "336/336 [==============================] - ETA: 0s - loss: 10.0086\n",
            "Epoch 00052: val_loss did not improve from 11.52878\n",
            "336/336 [==============================] - 62s 185ms/step - loss: 10.0086 - val_loss: 11.9586\n",
            "Epoch 53/200\n",
            "336/336 [==============================] - ETA: 0s - loss: 10.1079\n",
            "Epoch 00053: val_loss did not improve from 11.52878\n",
            "336/336 [==============================] - 62s 185ms/step - loss: 10.1079 - val_loss: 11.7446\n",
            "Epoch 54/200\n",
            "336/336 [==============================] - ETA: 0s - loss: 9.8437\n",
            "Epoch 00054: val_loss improved from 11.52878 to 11.50853, saving model to ../output/iam/flor/checkpoint_weights.hdf5\n",
            "336/336 [==============================] - 62s 186ms/step - loss: 9.8437 - val_loss: 11.5085\n",
            "Epoch 55/200\n",
            "336/336 [==============================] - ETA: 0s - loss: 9.7178\n",
            "Epoch 00055: val_loss improved from 11.50853 to 11.43609, saving model to ../output/iam/flor/checkpoint_weights.hdf5\n",
            "336/336 [==============================] - 63s 187ms/step - loss: 9.7178 - val_loss: 11.4361\n",
            "Epoch 56/200\n",
            "336/336 [==============================] - ETA: 0s - loss: 9.5564\n",
            "Epoch 00056: val_loss did not improve from 11.43609\n",
            "336/336 [==============================] - 63s 187ms/step - loss: 9.5564 - val_loss: 11.6745\n",
            "Epoch 57/200\n",
            "336/336 [==============================] - ETA: 0s - loss: 9.6396\n",
            "Epoch 00057: val_loss did not improve from 11.43609\n",
            "336/336 [==============================] - 62s 185ms/step - loss: 9.6396 - val_loss: 11.8051\n",
            "Epoch 58/200\n",
            "336/336 [==============================] - ETA: 0s - loss: 9.4510\n",
            "Epoch 00058: val_loss did not improve from 11.43609\n",
            "336/336 [==============================] - 63s 187ms/step - loss: 9.4510 - val_loss: 11.7356\n",
            "Epoch 59/200\n",
            "336/336 [==============================] - ETA: 0s - loss: 9.4821\n",
            "Epoch 00059: val_loss did not improve from 11.43609\n",
            "336/336 [==============================] - 62s 185ms/step - loss: 9.4821 - val_loss: 11.6233\n",
            "Epoch 60/200\n",
            "336/336 [==============================] - ETA: 0s - loss: 9.4846\n",
            "Epoch 00060: val_loss did not improve from 11.43609\n",
            "336/336 [==============================] - 63s 186ms/step - loss: 9.4846 - val_loss: 11.4551\n",
            "Epoch 61/200\n",
            "336/336 [==============================] - ETA: 0s - loss: 9.5389\n",
            "Epoch 00061: val_loss did not improve from 11.43609\n",
            "336/336 [==============================] - 63s 187ms/step - loss: 9.5389 - val_loss: 11.9759\n",
            "Epoch 62/200\n",
            "336/336 [==============================] - ETA: 0s - loss: 9.0994\n",
            "Epoch 00062: val_loss did not improve from 11.43609\n",
            "336/336 [==============================] - 62s 186ms/step - loss: 9.0994 - val_loss: 11.9202\n",
            "Epoch 63/200\n",
            "336/336 [==============================] - ETA: 0s - loss: 9.0849\n",
            "Epoch 00063: val_loss did not improve from 11.43609\n",
            "336/336 [==============================] - 62s 186ms/step - loss: 9.0849 - val_loss: 11.8725\n",
            "Epoch 64/200\n",
            "336/336 [==============================] - ETA: 0s - loss: 8.9867\n",
            "Epoch 00064: val_loss did not improve from 11.43609\n",
            "336/336 [==============================] - 62s 185ms/step - loss: 8.9867 - val_loss: 11.7024\n",
            "Epoch 65/200\n",
            "336/336 [==============================] - ETA: 0s - loss: 8.8746\n",
            "Epoch 00065: val_loss did not improve from 11.43609\n",
            "336/336 [==============================] - 62s 186ms/step - loss: 8.8746 - val_loss: 11.5397\n",
            "Epoch 66/200\n",
            "336/336 [==============================] - ETA: 0s - loss: 9.0285\n",
            "Epoch 00066: val_loss did not improve from 11.43609\n",
            "336/336 [==============================] - 62s 186ms/step - loss: 9.0285 - val_loss: 11.7319\n",
            "Epoch 67/200\n",
            "336/336 [==============================] - ETA: 0s - loss: 8.9853\n",
            "Epoch 00067: val_loss did not improve from 11.43609\n",
            "336/336 [==============================] - 62s 185ms/step - loss: 8.9853 - val_loss: 11.8027\n",
            "Epoch 68/200\n",
            "336/336 [==============================] - ETA: 0s - loss: 8.7261\n",
            "Epoch 00068: val_loss did not improve from 11.43609\n",
            "336/336 [==============================] - 62s 186ms/step - loss: 8.7261 - val_loss: 11.6866\n",
            "Epoch 69/200\n",
            "336/336 [==============================] - ETA: 0s - loss: 8.6335\n",
            "Epoch 00069: val_loss did not improve from 11.43609\n",
            "336/336 [==============================] - 62s 186ms/step - loss: 8.6335 - val_loss: 11.6760\n",
            "Epoch 70/200\n",
            "336/336 [==============================] - ETA: 0s - loss: 8.6558\n",
            "Epoch 00070: val_loss did not improve from 11.43609\n",
            "\n",
            "Epoch 00070: ReduceLROnPlateau reducing learning rate to 0.00020000000949949026.\n",
            "336/336 [==============================] - 62s 186ms/step - loss: 8.6558 - val_loss: 11.8446\n",
            "Epoch 71/200\n",
            "336/336 [==============================] - ETA: 0s - loss: 7.3262\n",
            "Epoch 00071: val_loss improved from 11.43609 to 10.81495, saving model to ../output/iam/flor/checkpoint_weights.hdf5\n",
            "336/336 [==============================] - 63s 187ms/step - loss: 7.3262 - val_loss: 10.8150\n",
            "Epoch 72/200\n",
            "336/336 [==============================] - ETA: 0s - loss: 6.9426\n",
            "Epoch 00072: val_loss improved from 10.81495 to 10.75435, saving model to ../output/iam/flor/checkpoint_weights.hdf5\n",
            "336/336 [==============================] - 63s 187ms/step - loss: 6.9426 - val_loss: 10.7543\n",
            "Epoch 73/200\n",
            "336/336 [==============================] - ETA: 0s - loss: 6.8275\n",
            "Epoch 00073: val_loss improved from 10.75435 to 10.66524, saving model to ../output/iam/flor/checkpoint_weights.hdf5\n",
            "336/336 [==============================] - 63s 187ms/step - loss: 6.8275 - val_loss: 10.6652\n",
            "Epoch 74/200\n",
            "336/336 [==============================] - ETA: 0s - loss: 6.6770\n",
            "Epoch 00074: val_loss improved from 10.66524 to 10.57101, saving model to ../output/iam/flor/checkpoint_weights.hdf5\n",
            "336/336 [==============================] - 63s 188ms/step - loss: 6.6770 - val_loss: 10.5710\n",
            "Epoch 75/200\n",
            "336/336 [==============================] - ETA: 0s - loss: 6.4704\n",
            "Epoch 00075: val_loss did not improve from 10.57101\n",
            "336/336 [==============================] - 62s 186ms/step - loss: 6.4704 - val_loss: 10.6334\n",
            "Epoch 76/200\n",
            "336/336 [==============================] - ETA: 0s - loss: 6.5333\n",
            "Epoch 00076: val_loss improved from 10.57101 to 10.52924, saving model to ../output/iam/flor/checkpoint_weights.hdf5\n",
            "336/336 [==============================] - 63s 186ms/step - loss: 6.5333 - val_loss: 10.5292\n",
            "Epoch 77/200\n",
            "336/336 [==============================] - ETA: 0s - loss: 6.3565\n",
            "Epoch 00077: val_loss did not improve from 10.52924\n",
            "336/336 [==============================] - 62s 185ms/step - loss: 6.3565 - val_loss: 10.5512\n",
            "Epoch 78/200\n",
            "336/336 [==============================] - ETA: 0s - loss: 6.1959\n",
            "Epoch 00078: val_loss did not improve from 10.52924\n",
            "336/336 [==============================] - 62s 185ms/step - loss: 6.1959 - val_loss: 10.6218\n",
            "Epoch 79/200\n",
            "336/336 [==============================] - ETA: 0s - loss: 6.1059\n",
            "Epoch 00079: val_loss improved from 10.52924 to 10.42526, saving model to ../output/iam/flor/checkpoint_weights.hdf5\n",
            "336/336 [==============================] - 63s 188ms/step - loss: 6.1059 - val_loss: 10.4253\n",
            "Epoch 80/200\n",
            "336/336 [==============================] - ETA: 0s - loss: 6.0743\n",
            "Epoch 00080: val_loss did not improve from 10.42526\n",
            "336/336 [==============================] - 62s 186ms/step - loss: 6.0743 - val_loss: 10.6331\n",
            "Epoch 81/200\n",
            "336/336 [==============================] - ETA: 0s - loss: 6.1856\n",
            "Epoch 00081: val_loss did not improve from 10.42526\n",
            "336/336 [==============================] - 62s 185ms/step - loss: 6.1856 - val_loss: 10.5681\n",
            "Epoch 82/200\n",
            "336/336 [==============================] - ETA: 0s - loss: 5.9767\n",
            "Epoch 00082: val_loss did not improve from 10.42526\n",
            "336/336 [==============================] - 62s 186ms/step - loss: 5.9767 - val_loss: 10.5029\n",
            "Epoch 83/200\n",
            "336/336 [==============================] - ETA: 0s - loss: 5.9459\n",
            "Epoch 00083: val_loss did not improve from 10.42526\n",
            "336/336 [==============================] - 62s 186ms/step - loss: 5.9459 - val_loss: 10.5161\n",
            "Epoch 84/200\n",
            "336/336 [==============================] - ETA: 0s - loss: 5.9290\n",
            "Epoch 00084: val_loss did not improve from 10.42526\n",
            "336/336 [==============================] - 62s 185ms/step - loss: 5.9290 - val_loss: 10.5769\n",
            "Epoch 85/200\n",
            "336/336 [==============================] - ETA: 0s - loss: 5.9929\n",
            "Epoch 00085: val_loss did not improve from 10.42526\n",
            "336/336 [==============================] - 62s 185ms/step - loss: 5.9929 - val_loss: 10.6107\n",
            "Epoch 86/200\n",
            "336/336 [==============================] - ETA: 0s - loss: 5.8780\n",
            "Epoch 00086: val_loss did not improve from 10.42526\n",
            "336/336 [==============================] - 62s 185ms/step - loss: 5.8780 - val_loss: 10.5461\n",
            "Epoch 87/200\n",
            "336/336 [==============================] - ETA: 0s - loss: 5.6525\n",
            "Epoch 00087: val_loss did not improve from 10.42526\n",
            "336/336 [==============================] - 62s 185ms/step - loss: 5.6525 - val_loss: 10.6548\n",
            "Epoch 88/200\n",
            "336/336 [==============================] - ETA: 0s - loss: 5.7628\n",
            "Epoch 00088: val_loss did not improve from 10.42526\n",
            "336/336 [==============================] - 62s 186ms/step - loss: 5.7628 - val_loss: 10.5918\n",
            "Epoch 89/200\n",
            "336/336 [==============================] - ETA: 0s - loss: 5.7236\n",
            "Epoch 00089: val_loss did not improve from 10.42526\n",
            "336/336 [==============================] - 62s 185ms/step - loss: 5.7236 - val_loss: 10.6145\n",
            "Epoch 90/200\n",
            "336/336 [==============================] - ETA: 0s - loss: 5.7374\n",
            "Epoch 00090: val_loss did not improve from 10.42526\n",
            "336/336 [==============================] - 63s 186ms/step - loss: 5.7374 - val_loss: 10.6578\n",
            "Epoch 91/200\n",
            "336/336 [==============================] - ETA: 0s - loss: 5.7745\n",
            "Epoch 00091: val_loss did not improve from 10.42526\n",
            "336/336 [==============================] - 62s 186ms/step - loss: 5.7745 - val_loss: 10.6988\n",
            "Epoch 92/200\n",
            "336/336 [==============================] - ETA: 0s - loss: 5.4932\n",
            "Epoch 00092: val_loss did not improve from 10.42526\n",
            "336/336 [==============================] - 62s 186ms/step - loss: 5.4932 - val_loss: 10.5124\n",
            "Epoch 93/200\n",
            "336/336 [==============================] - ETA: 0s - loss: 5.4660\n",
            "Epoch 00093: val_loss did not improve from 10.42526\n",
            "336/336 [==============================] - 62s 186ms/step - loss: 5.4660 - val_loss: 10.5667\n",
            "Epoch 94/200\n",
            "336/336 [==============================] - ETA: 0s - loss: 5.6326\n",
            "Epoch 00094: val_loss did not improve from 10.42526\n",
            "\n",
            "Epoch 00094: ReduceLROnPlateau reducing learning rate to 4.0000001899898055e-05.\n",
            "336/336 [==============================] - 62s 185ms/step - loss: 5.6326 - val_loss: 10.6060\n",
            "Epoch 95/200\n",
            "336/336 [==============================] - ETA: 0s - loss: 5.3156\n",
            "Epoch 00095: val_loss did not improve from 10.42526\n",
            "336/336 [==============================] - 62s 185ms/step - loss: 5.3156 - val_loss: 10.4701\n",
            "Epoch 96/200\n",
            "336/336 [==============================] - ETA: 0s - loss: 5.2505\n",
            "Epoch 00096: val_loss did not improve from 10.42526\n",
            "336/336 [==============================] - 62s 185ms/step - loss: 5.2505 - val_loss: 10.4906\n",
            "Epoch 97/200\n",
            "336/336 [==============================] - ETA: 0s - loss: 5.2412\n",
            "Epoch 00097: val_loss did not improve from 10.42526\n",
            "336/336 [==============================] - 62s 186ms/step - loss: 5.2412 - val_loss: 10.4868\n",
            "Epoch 98/200\n",
            "336/336 [==============================] - ETA: 0s - loss: 5.0457\n",
            "Epoch 00098: val_loss improved from 10.42526 to 10.41927, saving model to ../output/iam/flor/checkpoint_weights.hdf5\n",
            "336/336 [==============================] - 63s 186ms/step - loss: 5.0457 - val_loss: 10.4193\n",
            "Epoch 99/200\n",
            "336/336 [==============================] - ETA: 0s - loss: 5.2194\n",
            "Epoch 00099: val_loss did not improve from 10.41927\n",
            "336/336 [==============================] - 62s 184ms/step - loss: 5.2194 - val_loss: 10.5400\n",
            "Epoch 100/200\n",
            "336/336 [==============================] - ETA: 0s - loss: 5.2792\n",
            "Epoch 00100: val_loss did not improve from 10.41927\n",
            "336/336 [==============================] - 62s 185ms/step - loss: 5.2792 - val_loss: 10.5002\n",
            "Epoch 101/200\n",
            "336/336 [==============================] - ETA: 0s - loss: 5.1456\n",
            "Epoch 00101: val_loss did not improve from 10.41927\n",
            "336/336 [==============================] - 62s 185ms/step - loss: 5.1456 - val_loss: 10.4661\n",
            "Epoch 102/200\n",
            "336/336 [==============================] - ETA: 0s - loss: 5.3202\n",
            "Epoch 00102: val_loss did not improve from 10.41927\n",
            "336/336 [==============================] - 62s 185ms/step - loss: 5.3202 - val_loss: 10.4906\n",
            "Epoch 103/200\n",
            "336/336 [==============================] - ETA: 0s - loss: 5.1825\n",
            "Epoch 00103: val_loss did not improve from 10.41927\n",
            "336/336 [==============================] - 62s 185ms/step - loss: 5.1825 - val_loss: 10.4298\n",
            "Epoch 104/200\n",
            "336/336 [==============================] - ETA: 0s - loss: 5.2376\n",
            "Epoch 00104: val_loss did not improve from 10.41927\n",
            "336/336 [==============================] - 62s 185ms/step - loss: 5.2376 - val_loss: 10.4751\n",
            "Epoch 105/200\n",
            "336/336 [==============================] - ETA: 0s - loss: 5.2586\n",
            "Epoch 00105: val_loss did not improve from 10.41927\n",
            "336/336 [==============================] - 62s 185ms/step - loss: 5.2586 - val_loss: 10.4927\n",
            "Epoch 106/200\n",
            "336/336 [==============================] - ETA: 0s - loss: 4.9704\n",
            "Epoch 00106: val_loss improved from 10.41927 to 10.41609, saving model to ../output/iam/flor/checkpoint_weights.hdf5\n",
            "336/336 [==============================] - 63s 186ms/step - loss: 4.9704 - val_loss: 10.4161\n",
            "Epoch 107/200\n",
            "336/336 [==============================] - ETA: 0s - loss: 5.0825\n",
            "Epoch 00107: val_loss did not improve from 10.41609\n",
            "336/336 [==============================] - 62s 185ms/step - loss: 5.0825 - val_loss: 10.4861\n",
            "Epoch 108/200\n",
            "336/336 [==============================] - ETA: 0s - loss: 5.0471\n",
            "Epoch 00108: val_loss did not improve from 10.41609\n",
            "336/336 [==============================] - 62s 186ms/step - loss: 5.0471 - val_loss: 10.4939\n",
            "Epoch 109/200\n",
            "336/336 [==============================] - ETA: 0s - loss: 5.1221\n",
            "Epoch 00109: val_loss did not improve from 10.41609\n",
            "336/336 [==============================] - 62s 185ms/step - loss: 5.1221 - val_loss: 10.4830\n",
            "Epoch 110/200\n",
            "336/336 [==============================] - ETA: 0s - loss: 5.0253\n",
            "Epoch 00110: val_loss did not improve from 10.41609\n",
            "336/336 [==============================] - 62s 185ms/step - loss: 5.0253 - val_loss: 10.4891\n",
            "Epoch 111/200\n",
            "336/336 [==============================] - ETA: 0s - loss: 5.1045\n",
            "Epoch 00111: val_loss did not improve from 10.41609\n",
            "336/336 [==============================] - 62s 186ms/step - loss: 5.1045 - val_loss: 10.4967\n",
            "Epoch 112/200\n",
            "336/336 [==============================] - ETA: 0s - loss: 5.1039\n",
            "Epoch 00112: val_loss did not improve from 10.41609\n",
            "336/336 [==============================] - 62s 186ms/step - loss: 5.1039 - val_loss: 10.4903\n",
            "Epoch 113/200\n",
            "336/336 [==============================] - ETA: 0s - loss: 5.1421\n",
            "Epoch 00113: val_loss did not improve from 10.41609\n",
            "336/336 [==============================] - 62s 185ms/step - loss: 5.1421 - val_loss: 10.4332\n",
            "Epoch 114/200\n",
            "336/336 [==============================] - ETA: 0s - loss: 5.1242\n",
            "Epoch 00114: val_loss did not improve from 10.41609\n",
            "336/336 [==============================] - 62s 184ms/step - loss: 5.1242 - val_loss: 10.4300\n",
            "Epoch 115/200\n",
            "336/336 [==============================] - ETA: 0s - loss: 4.9669\n",
            "Epoch 00115: val_loss did not improve from 10.41609\n",
            "336/336 [==============================] - 62s 186ms/step - loss: 4.9669 - val_loss: 10.4902\n",
            "Epoch 116/200\n",
            "336/336 [==============================] - ETA: 0s - loss: 5.0816\n",
            "Epoch 00116: val_loss did not improve from 10.41609\n",
            "336/336 [==============================] - 62s 185ms/step - loss: 5.0816 - val_loss: 10.5303\n",
            "Epoch 117/200\n",
            "336/336 [==============================] - ETA: 0s - loss: 5.0034\n",
            "Epoch 00117: val_loss did not improve from 10.41609\n",
            "336/336 [==============================] - 62s 185ms/step - loss: 5.0034 - val_loss: 10.5482\n",
            "Epoch 118/200\n",
            "336/336 [==============================] - ETA: 0s - loss: 4.9776\n",
            "Epoch 00118: val_loss did not improve from 10.41609\n",
            "336/336 [==============================] - 62s 185ms/step - loss: 4.9776 - val_loss: 10.4774\n",
            "Epoch 119/200\n",
            "336/336 [==============================] - ETA: 0s - loss: 4.9372\n",
            "Epoch 00119: val_loss did not improve from 10.41609\n",
            "336/336 [==============================] - 62s 184ms/step - loss: 4.9372 - val_loss: 10.4583\n",
            "Epoch 120/200\n",
            "336/336 [==============================] - ETA: 0s - loss: 5.0230\n",
            "Epoch 00120: val_loss did not improve from 10.41609\n",
            "336/336 [==============================] - 62s 185ms/step - loss: 5.0230 - val_loss: 10.4962\n",
            "Epoch 121/200\n",
            "336/336 [==============================] - ETA: 0s - loss: 5.0216\n",
            "Epoch 00121: val_loss did not improve from 10.41609\n",
            "\n",
            "Epoch 00121: ReduceLROnPlateau reducing learning rate to 8.000000525498762e-06.\n",
            "336/336 [==============================] - 62s 185ms/step - loss: 5.0216 - val_loss: 10.5352\n",
            "Epoch 122/200\n",
            "336/336 [==============================] - ETA: 0s - loss: 4.8105\n",
            "Epoch 00122: val_loss did not improve from 10.41609\n",
            "336/336 [==============================] - 62s 185ms/step - loss: 4.8105 - val_loss: 10.4657\n",
            "Epoch 123/200\n",
            "336/336 [==============================] - ETA: 0s - loss: 4.9422\n",
            "Epoch 00123: val_loss did not improve from 10.41609\n",
            "336/336 [==============================] - 62s 184ms/step - loss: 4.9422 - val_loss: 10.4711\n",
            "Epoch 124/200\n",
            "336/336 [==============================] - ETA: 0s - loss: 4.9459\n",
            "Epoch 00124: val_loss did not improve from 10.41609\n",
            "336/336 [==============================] - 62s 184ms/step - loss: 4.9459 - val_loss: 10.4380\n",
            "Epoch 125/200\n",
            "336/336 [==============================] - ETA: 0s - loss: 5.0552\n",
            "Epoch 00125: val_loss did not improve from 10.41609\n",
            "336/336 [==============================] - 62s 185ms/step - loss: 5.0552 - val_loss: 10.4427\n",
            "Epoch 126/200\n",
            "336/336 [==============================] - ETA: 0s - loss: 4.8743\n",
            "Epoch 00126: val_loss did not improve from 10.41609\n",
            "Restoring model weights from the end of the best epoch.\n",
            "336/336 [==============================] - 62s 184ms/step - loss: 4.8743 - val_loss: 10.4322\n",
            "Epoch 00126: early stopping\n",
            "Total train images:      5369\n",
            "Total validation images: 744\n",
            "Batch:                   16\n",
            "\n",
            "Total time:              2:12:08.838504\n",
            "Time per epoch:          0:01:02.927290\n",
            "Time per item:           0:00:00.010294\n",
            "\n",
            "Total epochs:            126\n",
            "Best epoch               106\n",
            "\n",
            "Training loss:           4.97044468\n",
            "Validation loss:         10.41608524\n"
          ],
          "name": "stdout"
        }
      ]
    },
    {
      "cell_type": "code",
      "metadata": {
        "id": "s8-YTdi0OoL_",
        "colab_type": "code",
        "colab": {
          "base_uri": "https://localhost:8080/",
          "height": 1000
        },
        "outputId": "4dabafb5-67ae-4bdd-9ebc-c60ce49599cb"
      },
      "source": [
        "from data import preproc as pp\n",
        "from google.colab.patches import cv2_imshow\n",
        "\n",
        "start_time = datetime.datetime.now()\n",
        "\n",
        "# predict() function will return the predicts with the probabilities\n",
        "predicts, _ = model.predict(x=dtgen.next_test_batch(),\n",
        "                            steps=dtgen.steps['test'],\n",
        "                            ctc_decode=True,\n",
        "                            verbose=1)\n",
        "\n",
        "# decode to string\n",
        "predicts = [dtgen.tokenizer.decode(x[0]) for x in predicts]\n",
        "\n",
        "total_time = datetime.datetime.now() - start_time\n",
        "\n",
        "# mount predict corpus file\n",
        "with open(os.path.join(output_path, \"predict.txt\"), \"w\") as lg:\n",
        "    for pd, gt in zip(predicts, dtgen.dataset['test']['gt']):\n",
        "        lg.write(f\"TE_L {gt}\\nTE_P {pd}\\n\")\n",
        "   \n",
        "for i, item in enumerate(dtgen.dataset['test']['dt'][:10]):\n",
        "    print(\"=\" * 350, \"\\n\")\n",
        "    cv2_imshow(pp.adjust_to_see(item))\n",
        "    print(dtgen.dataset['test']['gt'][i])\n",
        "    print(predicts[i], \"\\n\")"
      ],
      "execution_count": null,
      "outputs": [
        {
          "output_type": "stream",
          "text": [
            "Model Predict\n",
            "90/90 [==============================] - 4s 46ms/step\n",
            "CTC Decode\n",
            "WARNING:tensorflow:From /usr/local/lib/python3.6/dist-packages/tensorflow/python/util/dispatch.py:201: sparse_to_dense (from tensorflow.python.ops.sparse_ops) is deprecated and will be removed in a future version.\n",
            "Instructions for updating:\n",
            "Create a `tf.sparse.SparseTensor` and use `tf.sparse.to_dense` instead.\n",
            "90/90 [==============================] - 89s 991ms/step\n",
            "============================================================================================================================================================================================================================================================================================================================================================== \n",
            "\n"
          ],
          "name": "stdout"
        },
        {
          "output_type": "display_data",
          "data": {
            "image/png": "[encoded data removed]",
            "text/plain": [
              "<PIL.Image.Image image mode=L size=1024x128 at 0x7F3C418C8CC0>"
            ]
          },
          "metadata": {
            "tags": []
          }
        },
        {
          "output_type": "stream",
          "text": [
            "quite unable to explain why he should feel\n",
            "qpeite unable to explain why he should feet \n",
            "\n",
            "============================================================================================================================================================================================================================================================================================================================================================== \n",
            "\n"
          ],
          "name": "stdout"
        },
        {
          "output_type": "display_data",
          "data": {
            "image/png": "[encoded data removed]",
            "text/plain": [
              "<PIL.Image.Image image mode=L size=1024x128 at 0x7F3C4198F8D0>"
            ]
          },
          "metadata": {
            "tags": []
          }
        },
        {
          "output_type": "stream",
          "text": [
            "meet the Deanes , and as soon as Guy had\n",
            "meet the Deanes , and as scon as Gny had \n",
            "\n",
            "============================================================================================================================================================================================================================================================================================================================================================== \n",
            "\n"
          ],
          "name": "stdout"
        },
        {
          "output_type": "display_data",
          "data": {
            "image/png": "[encoded data removed]",
            "text/plain": [
              "<PIL.Image.Image image mode=L size=1024x128 at 0x7F3C418C8CC0>"
            ]
          },
          "metadata": {
            "tags": []
          }
        },
        {
          "output_type": "stream",
          "text": [
            "the horses and drank enough to cure our\n",
            "the harses and dank grough to cure ou \n",
            "\n",
            "============================================================================================================================================================================================================================================================================================================================================================== \n",
            "\n"
          ],
          "name": "stdout"
        },
        {
          "output_type": "display_data",
          "data": {
            "image/png": "[encoded data removed]",
            "text/plain": [
              "<PIL.Image.Image image mode=L size=1024x128 at 0x7F3C4198F8D0>"
            ]
          },
          "metadata": {
            "tags": []
          }
        },
        {
          "output_type": "stream",
          "text": [
            "you not killed ? ' ' Because we know all things , ' the\n",
            "you not killed ! ' ' Because we know all things , ' the \n",
            "\n",
            "============================================================================================================================================================================================================================================================================================================================================================== \n",
            "\n"
          ],
          "name": "stdout"
        },
        {
          "output_type": "display_data",
          "data": {
            "image/png": "[encoded data removed]",
            "text/plain": [
              "<PIL.Image.Image image mode=L size=1024x128 at 0x7F3C423191D0>"
            ]
          },
          "metadata": {
            "tags": []
          }
        },
        {
          "output_type": "stream",
          "text": [
            "with the possibility of faulty design . \" He held\n",
            "with the possibility of faubty design . \" He held \n",
            "\n",
            "============================================================================================================================================================================================================================================================================================================================================================== \n",
            "\n"
          ],
          "name": "stdout"
        },
        {
          "output_type": "display_data",
          "data": {
            "image/png": "[encoded data removed]",
            "text/plain": [
              "<PIL.Image.Image image mode=L size=1024x128 at 0x7F3C4198F8D0>"
            ]
          },
          "metadata": {
            "tags": []
          }
        },
        {
          "output_type": "stream",
          "text": [
            "all due deference , Miss Deane - come off it !\n",
            "all due deference , Miss deaue - come off it ! \n",
            "\n",
            "============================================================================================================================================================================================================================================================================================================================================================== \n",
            "\n"
          ],
          "name": "stdout"
        },
        {
          "output_type": "display_data",
          "data": {
            "image/png": "[encoded data removed]",
            "text/plain": [
              "<PIL.Image.Image image mode=L size=1024x128 at 0x7F3C423191D0>"
            ]
          },
          "metadata": {
            "tags": []
          }
        },
        {
          "output_type": "stream",
          "text": [
            "It would have been acceptable to all concerned\n",
            "Bt would have been acceptable to all concerned \n",
            "\n",
            "============================================================================================================================================================================================================================================================================================================================================================== \n",
            "\n"
          ],
          "name": "stdout"
        },
        {
          "output_type": "display_data",
          "data": {
            "image/png": "[encoded data removed]",
            "text/plain": [
              "<PIL.Image.Image image mode=L size=1024x128 at 0x7F3C4198F8D0>"
            ]
          },
          "metadata": {
            "tags": []
          }
        },
        {
          "output_type": "stream",
          "text": [
            "to make you understand just what happened\n",
            "to make you understard just what happered \n",
            "\n",
            "============================================================================================================================================================================================================================================================================================================================================================== \n",
            "\n"
          ],
          "name": "stdout"
        },
        {
          "output_type": "display_data",
          "data": {
            "image/png": "[encoded data removed]",
            "text/plain": [
              "<PIL.Image.Image image mode=L size=1024x128 at 0x7F3C400EEBE0>"
            ]
          },
          "metadata": {
            "tags": []
          }
        },
        {
          "output_type": "stream",
          "text": [
            "course of action should be . First , to avoid the\n",
            "course of action should be . First , to avoid the \n",
            "\n",
            "============================================================================================================================================================================================================================================================================================================================================================== \n",
            "\n"
          ],
          "name": "stdout"
        },
        {
          "output_type": "display_data",
          "data": {
            "image/png": "[encoded data removed]",
            "text/plain": [
              "<PIL.Image.Image image mode=L size=1024x128 at 0x7F3C400EEBE0>"
            ]
          },
          "metadata": {
            "tags": []
          }
        },
        {
          "output_type": "stream",
          "text": [
            "( Stamp Department ) while Sally sulked at home .\n",
            "( stamp Department ) while sally sulked at home . \n",
            "\n"
          ],
          "name": "stdout"
        }
      ]
    },
    {
      "cell_type": "code",
      "metadata": {
        "id": "TfiggHXfUJ-L",
        "colab_type": "code",
        "colab": {
          "base_uri": "https://localhost:8080/",
          "height": 161
        },
        "outputId": "526d45ca-471a-4f4a-a784-0880b81d9a96"
      },
      "source": [
        "from data import evaluation\n",
        "\n",
        "evaluate = evaluation.ocr_metrics(predicts=predicts,\n",
        "                                  ground_truth=dtgen.dataset['test']['gt'])\n",
        "\n",
        "e_corpus = \"\\n\".join([\n",
        "    f\"Total test images:    {dtgen.size['test']}\",\n",
        "    f\"Total time:           {total_time}\",\n",
        "    f\"Time per item:        {total_time / dtgen.size['test']}\\n\",\n",
        "    f\"Metrics:\",\n",
        "    f\"Character Error Rate: {evaluate[0]:.8f}\",\n",
        "    f\"Word Error Rate:      {evaluate[1]:.8f}\",\n",
        "    f\"Sequence Error Rate:  {evaluate[2]:.8f}\"\n",
        "])\n",
        "\n",
        "with open(os.path.join(output_path, \"evaluate.txt\"), \"w\") as lg:\n",
        "    lg.write(e_corpus)\n",
        "    print(e_corpus)"
      ],
      "execution_count": null,
      "outputs": [
        {
          "output_type": "stream",
          "text": [
            "Total test images:    1425\n",
            "Total time:           0:01:34.720739\n",
            "Time per item:        0:00:00.066471\n",
            "\n",
            "Metrics:\n",
            "Character Error Rate: 0.05956974\n",
            "Word Error Rate:      0.19398749\n",
            "Sequence Error Rate:  0.78105263\n"
          ],
          "name": "stdout"
        }
      ]
    },
    {
      "cell_type": "code",
      "metadata": {
        "id": "iNfE8f4MdWSM",
        "colab_type": "code",
        "colab": {}
      },
      "source": [
        ""
      ],
      "execution_count": null,
      "outputs": []
    }
  ]
}